{
 "cells": [
  {
   "cell_type": "code",
   "execution_count": 9,
   "id": "initial_id",
   "metadata": {
    "collapsed": true,
    "ExecuteTime": {
     "end_time": "2024-05-11T09:25:16.734546Z",
     "start_time": "2024-05-11T09:25:16.731301Z"
    }
   },
   "outputs": [],
   "source": [
    "from PIL import Image\n",
    "import os"
   ]
  },
  {
   "cell_type": "code",
   "outputs": [],
   "source": [
    "def convert_images_directory_to_pdf(directory):\n",
    "    directory_file_names = os.listdir(directory)\n",
    "    for filename in directory_file_names:\n",
    "        if filename.lower().endswith((\".jpg\", \".png\", \"jpeg\")):\n",
    "            image_path = os.path.join(directory, filename)\n",
    "            image = Image.open(image_path)\n",
    "            pdf = image.convert(\"RGB\")\n",
    "            os.makedirs(os.path.join(directory, \"pdf\"), exist_ok=True)\n",
    "            output_path = os.path.join(directory , \"pdf\" , f\"{os.path.splitext(filename)[0]}.pdf\")\n",
    "            pdf.save(output_path)"
   ],
   "metadata": {
    "collapsed": false,
    "ExecuteTime": {
     "end_time": "2024-05-11T09:25:16.911707Z",
     "start_time": "2024-05-11T09:25:16.741044Z"
    }
   },
   "id": "88d34776b35c670a",
   "execution_count": 10
  },
  {
   "cell_type": "code",
   "outputs": [],
   "source": [
    "# put the directory path here:\n",
    "convert_images_directory_to_pdf(\"data\")"
   ],
   "metadata": {
    "collapsed": false,
    "ExecuteTime": {
     "end_time": "2024-05-11T09:26:15.244197Z",
     "start_time": "2024-05-11T09:26:15.079384Z"
    }
   },
   "id": "a94280f54f193",
   "execution_count": 12
  },
  {
   "cell_type": "code",
   "outputs": [],
   "source": [],
   "metadata": {
    "collapsed": false,
    "ExecuteTime": {
     "end_time": "2024-05-11T09:25:17.196155Z",
     "start_time": "2024-05-11T09:25:17.194083Z"
    }
   },
   "id": "d53a9480d598e510",
   "execution_count": 11
  }
 ],
 "metadata": {
  "kernelspec": {
   "display_name": "Python 3",
   "language": "python",
   "name": "python3"
  },
  "language_info": {
   "codemirror_mode": {
    "name": "ipython",
    "version": 2
   },
   "file_extension": ".py",
   "mimetype": "text/x-python",
   "name": "python",
   "nbconvert_exporter": "python",
   "pygments_lexer": "ipython2",
   "version": "2.7.6"
  }
 },
 "nbformat": 4,
 "nbformat_minor": 5
}
