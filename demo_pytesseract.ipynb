{
 "cells": [
  {
   "cell_type": "code",
   "execution_count": 1,
   "id": "initial_id",
   "metadata": {
    "collapsed": true,
    "ExecuteTime": {
     "end_time": "2024-05-10T17:46:12.495920Z",
     "start_time": "2024-05-10T17:46:12.349877Z"
    }
   },
   "outputs": [],
   "source": [
    "import pytesseract\n",
    "from PIL import Image"
   ]
  },
  {
   "cell_type": "code",
   "outputs": [],
   "source": [
    "img_file = \"data/page_01.jpg\"\n",
    "no_noise = \"temp/no_noise.jpg\""
   ],
   "metadata": {
    "collapsed": false,
    "ExecuteTime": {
     "end_time": "2024-05-10T17:48:09.991501Z",
     "start_time": "2024-05-10T17:48:09.987568Z"
    }
   },
   "id": "fa8f4767179c779f",
   "execution_count": 2
  },
  {
   "cell_type": "code",
   "outputs": [],
   "source": [
    "img = Image.open(no_noise)"
   ],
   "metadata": {
    "collapsed": false,
    "ExecuteTime": {
     "end_time": "2024-05-10T17:51:03.011707Z",
     "start_time": "2024-05-10T17:51:03.007882Z"
    }
   },
   "id": "c74ea68b3f5323e4",
   "execution_count": 13
  },
  {
   "cell_type": "code",
   "outputs": [],
   "source": [
    "ocr_result = pytesseract.image_to_string(img)"
   ],
   "metadata": {
    "collapsed": false,
    "ExecuteTime": {
     "end_time": "2024-05-10T17:51:04.620489Z",
     "start_time": "2024-05-10T17:51:03.631477Z"
    }
   },
   "id": "f6d84f769f4a5dfb",
   "execution_count": 14
  },
  {
   "cell_type": "code",
   "outputs": [
    {
     "name": "stdout",
     "output_type": "stream",
     "text": [
      "“GABRIEL Meamall\n",
      "\n",
      "On Easter morning in the year 1944, I took my six-year-old\n",
      "son by the hand and began walking fron my home town toward the\n",
      "valleys and forests of the Carpathi2n mountains. For nearly\n",
      "eight months we lived in barns, attics and makeshift eabins. With\n",
      "the pene nous nelp of an unusually courageous man, we managed to\n",
      "survive Europe's greatest fit of madness. Those who walked in\n",
      "the opposite direction on that Easter day were lese fortunate.\n",
      "They were taken in trainloads to places whose once obscure names\n",
      "are now, and forever will be, synonymous with terror, evil and\n",
      "death. What follows is our story of survival told to the best\n",
      "of my ability, in plain, simple language.\n",
      "\n",
      "In March of 1944 the SS troops took over the internal affairs\n",
      "of Hungary and proceeded to organize the deportation of the dows.\n",
      "To the Nazie thie was a routine assignment; within hours all local\n",
      "officials were informed of operational plans. The high command\n",
      "issued a directive designed to placate Jewish fears and induce\n",
      "cooperation. It was announced that the Jews would be shipped to\n",
      "Poland as an emergency labor force and that they were only being\n",
      "drafted for temporary work. There were many who believed this\n",
      "version. Others, less credulous, resigred themselves and hoped for\n",
      "the vest. Still others began to make plans for escape. By Aprii\n",
      "13 the Hungarian Jews were being rounded up from all over the .\n",
      "country in what was once a huge brick factory. The rest is well\n",
      "known. .\n",
      "\n",
      "I was working in Ungvar and usually came home on weekends.\n",
      "\n",
      "At that time it was no longer possible for a Jew to travel freely.\n"
     ]
    }
   ],
   "source": [
    "print(ocr_result)"
   ],
   "metadata": {
    "collapsed": false,
    "ExecuteTime": {
     "end_time": "2024-05-10T17:51:05.105846Z",
     "start_time": "2024-05-10T17:51:05.102663Z"
    }
   },
   "id": "effabefdf5c70575",
   "execution_count": 15
  },
  {
   "cell_type": "code",
   "outputs": [],
   "source": [],
   "metadata": {
    "collapsed": false
   },
   "id": "2489bdccca3bc190"
  }
 ],
 "metadata": {
  "kernelspec": {
   "display_name": "Python 3",
   "language": "python",
   "name": "python3"
  },
  "language_info": {
   "codemirror_mode": {
    "name": "ipython",
    "version": 2
   },
   "file_extension": ".py",
   "mimetype": "text/x-python",
   "name": "python",
   "nbconvert_exporter": "python",
   "pygments_lexer": "ipython2",
   "version": "2.7.6"
  }
 },
 "nbformat": 4,
 "nbformat_minor": 5
}
